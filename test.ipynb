{
 "cells": [
  {
   "cell_type": "code",
   "execution_count": 20,
   "metadata": {},
   "outputs": [],
   "source": [
    "from src.mcp_agent.agent import MCP_Agent\n",
    "import os\n",
    "from dotenv import load_dotenv\n",
    "import asyncio\n",
    "load_dotenv()\n",
    "import nest_asyncio\n",
    "nest_asyncio.apply()\n",
    "\n",
    "api_keys={'openai_api_key':os.getenv('openai_api_key')}\n",
    "\n",
    "mcp_servers=[{'url':'https://mcp.notion.com/sse', 'type':'SSE', 'headers':{'Authorization':f'Bearer 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'}, 'name':'notion'}]\n",
    "\n",
    "agent=MCP_Agent(api_keys=api_keys, mpc_server_urls=mcp_servers)\n",
    "\n"
   ]
  },
  {
   "cell_type": "code",
   "execution_count": 21,
   "metadata": {},
   "outputs": [
    {
     "name": "stderr",
     "output_type": "stream",
     "text": [
      "  + Exception Group Traceback (most recent call last):\n",
      "  |   File \"c:\\Users\\trist\\OneDrive\\Desktop\\important\\ai_portfolio\\MCP-Agent\\.venv\\Lib\\site-packages\\IPython\\core\\interactiveshell.py\", line 3699, in run_code\n",
      "  |     exec(code_obj, self.user_global_ns, self.user_ns)\n",
      "  |     ~~~~^^^^^^^^^^^^^^^^^^^^^^^^^^^^^^^^^^^^^^^^^^^^^\n",
      "  |   File \"C:\\Users\\trist\\AppData\\Local\\Temp\\ipykernel_99564\\90721931.py\", line 1, in <module>\n",
      "  |     asyncio.run(agent.chat(\"list tools\"))\n",
      "  |     ~~~~~~~~~~~^^^^^^^^^^^^^^^^^^^^^^^^^^\n",
      "  |   File \"c:\\Users\\trist\\OneDrive\\Desktop\\important\\ai_portfolio\\MCP-Agent\\.venv\\Lib\\site-packages\\nest_asyncio.py\", line 30, in run\n",
      "  |     return loop.run_until_complete(task)\n",
      "  |            ~~~~~~~~~~~~~~~~~~~~~~~^^^^^^\n",
      "  |   File \"c:\\Users\\trist\\OneDrive\\Desktop\\important\\ai_portfolio\\MCP-Agent\\.venv\\Lib\\site-packages\\nest_asyncio.py\", line 98, in run_until_complete\n",
      "  |     return f.result()\n",
      "  |            ~~~~~~~~^^\n",
      "  |   File \"C:\\Users\\trist\\AppData\\Local\\Programs\\Python\\Python313\\Lib\\asyncio\\futures.py\", line 199, in result\n",
      "  |     raise self._exception.with_traceback(self._exception_tb)\n",
      "  |   File \"C:\\Users\\trist\\AppData\\Local\\Programs\\Python\\Python313\\Lib\\asyncio\\tasks.py\", line 304, in __step_run_and_handle_result\n",
      "  |     result = coro.send(None)\n",
      "  |   File \"c:\\Users\\trist\\OneDrive\\Desktop\\important\\ai_portfolio\\MCP-Agent\\src\\mcp_agent\\agent.py\", line 168, in chat\n",
      "  |     await self.connect()\n",
      "  |   File \"c:\\Users\\trist\\OneDrive\\Desktop\\important\\ai_portfolio\\MCP-Agent\\src\\mcp_agent\\agent.py\", line 105, in connect\n",
      "  |     await self._mcp_context_manager.__aenter__()\n",
      "  |   File \"C:\\Users\\trist\\AppData\\Local\\Programs\\Python\\Python313\\Lib\\contextlib.py\", line 214, in __aenter__\n",
      "  |     return await anext(self.gen)\n",
      "  |            ^^^^^^^^^^^^^^^^^^^^^\n",
      "  |   File \"c:\\Users\\trist\\OneDrive\\Desktop\\important\\ai_portfolio\\MCP-Agent\\.venv\\Lib\\site-packages\\pydantic_ai\\agent.py\", line 1744, in run_mcp_servers\n",
      "  |     await exit_stack.enter_async_context(mcp_server)\n",
      "  |   File \"C:\\Users\\trist\\AppData\\Local\\Programs\\Python\\Python313\\Lib\\contextlib.py\", line 668, in enter_async_context\n",
      "  |     result = await _enter(cm)\n",
      "  |              ^^^^^^^^^^^^^^^^\n",
      "  |   File \"c:\\Users\\trist\\OneDrive\\Desktop\\important\\ai_portfolio\\MCP-Agent\\.venv\\Lib\\site-packages\\pydantic_ai\\mcp.py\", line 156, in __aenter__\n",
      "  |     self._read_stream, self._write_stream = await self._exit_stack.enter_async_context(self.client_streams())\n",
      "  |                                             ^^^^^^^^^^^^^^^^^^^^^^^^^^^^^^^^^^^^^^^^^^^^^^^^^^^^^^^^^^^^^^^^^\n",
      "  |   File \"C:\\Users\\trist\\AppData\\Local\\Programs\\Python\\Python313\\Lib\\contextlib.py\", line 668, in enter_async_context\n",
      "  |     result = await _enter(cm)\n",
      "  |              ^^^^^^^^^^^^^^^^\n",
      "  |   File \"C:\\Users\\trist\\AppData\\Local\\Programs\\Python\\Python313\\Lib\\contextlib.py\", line 214, in __aenter__\n",
      "  |     return await anext(self.gen)\n",
      "  |            ^^^^^^^^^^^^^^^^^^^^^\n",
      "  |   File \"c:\\Users\\trist\\OneDrive\\Desktop\\important\\ai_portfolio\\MCP-Agent\\.venv\\Lib\\site-packages\\pydantic_ai\\mcp.py\", line 482, in client_streams\n",
      "  |     async with transport_client_partial(headers=self.headers) as (read_stream, write_stream, *_):\n",
      "  |                ~~~~~~~~~~~~~~~~~~~~~~~~^^^^^^^^^^^^^^^^^^^^^^\n",
      "  |   File \"C:\\Users\\trist\\AppData\\Local\\Programs\\Python\\Python313\\Lib\\contextlib.py\", line 214, in __aenter__\n",
      "  |     return await anext(self.gen)\n",
      "  |            ^^^^^^^^^^^^^^^^^^^^^\n",
      "  |   File \"c:\\Users\\trist\\OneDrive\\Desktop\\important\\ai_portfolio\\MCP-Agent\\.venv\\Lib\\site-packages\\mcp\\client\\sse.py\", line 54, in sse_client\n",
      "  |     async with anyio.create_task_group() as tg:\n",
      "  |                ~~~~~~~~~~~~~~~~~~~~~~~^^\n",
      "  |   File \"c:\\Users\\trist\\OneDrive\\Desktop\\important\\ai_portfolio\\MCP-Agent\\.venv\\Lib\\site-packages\\anyio\\_backends\\_asyncio.py\", line 772, in __aexit__\n",
      "  |     raise BaseExceptionGroup(\n",
      "  |         \"unhandled errors in a TaskGroup\", self._exceptions\n",
      "  |     ) from None\n",
      "  | ExceptionGroup: unhandled errors in a TaskGroup (1 sub-exception)\n",
      "  +-+---------------- 1 ----------------\n",
      "    | Traceback (most recent call last):\n",
      "    |   File \"c:\\Users\\trist\\OneDrive\\Desktop\\important\\ai_portfolio\\MCP-Agent\\.venv\\Lib\\site-packages\\mcp\\client\\sse.py\", line 65, in sse_client\n",
      "    |     event_source.response.raise_for_status()\n",
      "    |     ~~~~~~~~~~~~~~~~~~~~~~~~~~~~~~~~~~~~~~^^\n",
      "    |   File \"c:\\Users\\trist\\OneDrive\\Desktop\\important\\ai_portfolio\\MCP-Agent\\.venv\\Lib\\site-packages\\httpx\\_models.py\", line 829, in raise_for_status\n",
      "    |     raise HTTPStatusError(message, request=request, response=self)\n",
      "    | httpx.HTTPStatusError: Client error '401 Unauthorized' for url 'https://mcp.notion.com/sse'\n",
      "    | For more information check: https://developer.mozilla.org/en-US/docs/Web/HTTP/Status/401\n",
      "    +------------------------------------\n"
     ]
    }
   ],
   "source": [
    "asyncio.run(agent.chat(\"list tools\"))"
   ]
  },
  {
   "cell_type": "code",
   "execution_count": null,
   "metadata": {},
   "outputs": [],
   "source": []
  }
 ],
 "metadata": {
  "kernelspec": {
   "display_name": ".venv",
   "language": "python",
   "name": "python3"
  },
  "language_info": {
   "codemirror_mode": {
    "name": "ipython",
    "version": 3
   },
   "file_extension": ".py",
   "mimetype": "text/x-python",
   "name": "python",
   "nbconvert_exporter": "python",
   "pygments_lexer": "ipython3",
   "version": "3.13.2"
  }
 },
 "nbformat": 4,
 "nbformat_minor": 2
}
