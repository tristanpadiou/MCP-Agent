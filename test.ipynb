{
 "cells": [
  {
   "cell_type": "code",
   "execution_count": 1,
   "metadata": {},
   "outputs": [],
   "source": [
    "from agent import MCP_Agent\n",
    "import os\n",
    "from dotenv import load_dotenv\n",
    "import asyncio\n",
    "load_dotenv()\n",
    "import nest_asyncio\n",
    "nest_asyncio.apply()\n",
    "\n",
    "api_keys={'openai_api_key':os.getenv('openai_api_key')}\n",
    "\n",
    "test_mpc_servers=[{'url':os.getenv('notion_mcp_server'), 'type':'http', 'bearer_token':None, 'name':'notion'},\n",
    "                  {'url':os.getenv('gmail_mcp_server'), 'type':'http', 'bearer_token':None, 'name':'gmail'}]\n",
    "\n",
    "agent=MCP_Agent(api_keys=api_keys, mpc_server_urls=test_mpc_servers)\n",
    "\n"
   ]
  },
  {
   "cell_type": "code",
   "execution_count": 3,
   "metadata": {},
   "outputs": [
    {
     "data": {
      "text/plain": [
       "\"Here are the tools I can use for you:\\n\\n1. NOTION_ADD_PAGE_CONTENT: Append content to a Notion page or block.\\n2. NOTION_CREATE_COMMENT: Add comments to a Notion page or discussion.\\n3. NOTION_CREATE_DATABASE: Create a new Notion database.\\n4. NOTION_CREATE_NOTION_PAGE: Create a new Notion page.\\n5. NOTION_DELETE_BLOCK: Archive a Notion block, page, or database.\\n6. NOTION_FETCH_COMMENTS: Fetch unresolved comments for a Notion page or block.\\n7. NOTION_FETCH_DATA: Fetch Notion pages and databases.\\n8. NOTION_FETCH_DATABASE: Fetch a Notion database's structural metadata.\\n9. NOTION_FETCH_ROW: Fetch a Notion database row's properties.\\n10. NOTION_GET_ABOUT_ME: Retrieve information about the bot user.\\n11. NOTION_GET_ABOUT_USER: Retrieve detailed information about a Notion user.\\n12. NOTION_INSERT_ROW_DATABASE: Create a new page (row) in a Notion database.\\n13. NOTION_LIST_USERS: Retrieve a list of users from the Notion workspace.\\n14. NOTION_QUERY_DATABASE: Query a Notion database for pages (rows).\\n15. NOTION_RETRIEVE_COMMENT: Retrieve a specific comment by ID.\\n16. NOTION_RETRIEVE_DATABASE_PROPERTY: Retrieve a specific property object of a Notion database.\\n17. NOTION_UPDATE_PAGE: Update properties or attributes of a Notion page.\\n18. NOTION_UPDATE_ROW_DATABASE: Update or archive a row (page) in a Notion database.\\n19. NOTION_UPDATE_SCHEMA_DATABASE: Update a Notion database's title, description, or properties.\\n20. GMAIL_DELETE_DRAFT: Permanently delete a Gmail draft.\\n21. GMAIL_DELETE_MESSAGE: Permanently delete a Gmail message.\\n22. GMAIL_FETCH_EMAILS: Fetch a list of email messages from Gmail.\\n23. GMAIL_FETCH_MESSAGE_BY_MESSAGE_ID: Fetch a specific Gmail message by ID.\\n24. GMAIL_GET_ATTACHMENT: Retrieve a Gmail attachment by ID.\\n25. GMAIL_GET_CONTACTS: Fetch Gmail contacts for the authenticated account.\\n26. GMAIL_LIST_DRAFTS: Retrieve a list of email drafts.\\n27. GMAIL_MOVE_TO_TRASH: Move an email message to trash.\\n28. GMAIL_PATCH_LABEL: Patch a Gmail label.\\n29. GMAIL_REPLY_TO_THREAD: Send a reply within a Gmail thread.\\n30. GMAIL_SEARCH_PEOPLE: Search contacts by matching query.\\n31. GMAIL_SEND_DRAFT: Send an existing Gmail draft.\\n32. GMAIL_SEND_EMAIL: Send an email via Gmail API.\\n33. GMAIL_ADD_LABEL_TO_EMAIL: Add or remove Gmail labels for a message.\\n34. GMAIL_MODIFY_THREAD_LABELS: Add or remove labels for a Gmail thread.\\n35. GMAIL_CREATE_EMAIL_DRAFT: Create a Gmail email draft.\\n36. GMAIL_CREATE_LABEL: Create a new Gmail label.\\n37. GMAIL_FETCH_MESSAGE_BY_THREAD_ID: Fetch messages from a Gmail thread.\\n38. GMAIL_GET_PEOPLE: Retrieve specific person's details or list 'other contacts'.\\n39. GMAIL_GET_PROFILE: Retrieve key Gmail profile information.\\n40. GMAIL_LIST_LABELS: Retrieve a list of Gmail labels.\\n41. GMAIL_LIST_THREADS: Retrieve a list of email threads.\\n42. GMAIL_REMOVE_LABEL: Permanently delete a Gmail label.\\n\\nHow can I assist you further?\""
      ]
     },
     "execution_count": 3,
     "metadata": {},
     "output_type": "execute_result"
    }
   ],
   "source": [
    "asyncio.run(agent.chat(\"list tools\"))"
   ]
  }
 ],
 "metadata": {
  "kernelspec": {
   "display_name": ".venv",
   "language": "python",
   "name": "python3"
  },
  "language_info": {
   "codemirror_mode": {
    "name": "ipython",
    "version": 3
   },
   "file_extension": ".py",
   "mimetype": "text/x-python",
   "name": "python",
   "nbconvert_exporter": "python",
   "pygments_lexer": "ipython3",
   "version": "3.13.2"
  }
 },
 "nbformat": 4,
 "nbformat_minor": 2
}
